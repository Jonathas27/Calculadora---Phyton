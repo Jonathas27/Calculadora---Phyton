{
 "cells": [
  {
   "cell_type": "code",
   "execution_count": 19,
   "metadata": {},
   "outputs": [],
   "source": [
    "def soma (n1, n2):\n",
    "    return n1+n2\n",
    "\n",
    "def subtrai (n1, n2):\n",
    "    return n1-n2\n",
    "\n",
    "def multiplica (n1, n2):\n",
    "    return n1*n2\n",
    "\n",
    "def divide (n1, n2):\n",
    "    return n1/n2"
   ]
  },
  {
   "cell_type": "code",
   "execution_count": 18,
   "metadata": {},
   "outputs": [
    {
     "ename": "SyntaxError",
     "evalue": "invalid syntax (3000979908.py, line 7)",
     "output_type": "error",
     "traceback": [
      "\u001b[1;36m  Cell \u001b[1;32mIn[18], line 7\u001b[1;36m\u001b[0m\n\u001b[1;33m    print(\"4 Divide\"):\u001b[0m\n\u001b[1;37m                     ^\u001b[0m\n\u001b[1;31mSyntaxError\u001b[0m\u001b[1;31m:\u001b[0m invalid syntax\n"
     ]
    }
   ],
   "source": [
    "while True:\n",
    "    print(\"===============+\")\n",
    "    print(\"|MENU DE OPERAÇÕES\")\n",
    "    print(\"1 Somar\")\n",
    "    print(\"2 Subtrai\")\n",
    "    print(\"3 Multiplica\")\n",
    "    print(\"4 Divide\"):\n",
    "        op= int(input())\n",
    "        if op=0\n",
    "        break\n",
    "\n",
    "n1=int(input(primeiro número))\n",
    "n2=int(input(segundo número))\n",
    "\n",
    "if escolha == '1':\n",
    "    print(\"O resultado é\",(n1+n2))\n",
    "\n",
    "elif == '2':\n",
    "    print (\"O resultado é\", (n1-n2))\n",
    "\n",
    "elif == '3':\n",
    "    print (\"O resultado é\", (n1*n2))\n",
    "\n",
    "elif == '4':\n",
    "    print (\"O resultado é\", (n1/n2))"
   ]
  }
 ],
 "metadata": {
  "kernelspec": {
   "display_name": "Python 3",
   "language": "python",
   "name": "python3"
  },
  "language_info": {
   "codemirror_mode": {
    "name": "ipython",
    "version": 3
   },
   "file_extension": ".py",
   "mimetype": "text/x-python",
   "name": "python",
   "nbconvert_exporter": "python",
   "pygments_lexer": "ipython3",
   "version": "3.11.9"
  }
 },
 "nbformat": 4,
 "nbformat_minor": 2
}
